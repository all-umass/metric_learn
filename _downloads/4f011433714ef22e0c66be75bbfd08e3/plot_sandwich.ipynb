{
  "cells": [
    {
      "cell_type": "markdown",
      "metadata": {},
      "source": [
        "\n# Sandwich demo\n\nSandwich demo based on code from http://nbviewer.ipython.org/6576096\n"
      ]
    },
    {
      "cell_type": "markdown",
      "metadata": {},
      "source": [
        "<div class=\"alert alert-info\"><h4>Note</h4><p>In order to show the charts of the examples you need a graphical\n    ``matplotlib`` backend installed. For intance, use ``pip install pyqt5``\n    to get Qt graphical interface or use your favorite one.</p></div>\n\n"
      ]
    },
    {
      "cell_type": "code",
      "execution_count": null,
      "metadata": {
        "collapsed": false
      },
      "outputs": [],
      "source": [
        "import numpy as np\nfrom matplotlib import pyplot as plt\nfrom sklearn.metrics import pairwise_distances\nfrom sklearn.neighbors import NearestNeighbors\n\nfrom metric_learn import (LMNN, ITML_Supervised, LSML_Supervised,\n                          SDML_Supervised)\n\n\ndef sandwich_demo():\n  x, y = sandwich_data()\n  knn = nearest_neighbors(x, k=2)\n  ax = plt.subplot(3, 1, 1)  # take the whole top row\n  plot_sandwich_data(x, y, ax)\n  plot_neighborhood_graph(x, knn, y, ax)\n  ax.set_title('input space')\n  ax.set_aspect('equal')\n  ax.set_xticks([])\n  ax.set_yticks([])\n\n  mls = [\n      LMNN(),\n      ITML_Supervised(n_constraints=200),\n      SDML_Supervised(n_constraints=200, balance_param=0.001),\n      LSML_Supervised(n_constraints=200),\n  ]\n\n  for ax_num, ml in enumerate(mls, start=3):\n    ml.fit(x, y)\n    tx = ml.transform(x)\n    ml_knn = nearest_neighbors(tx, k=2)\n    ax = plt.subplot(3, 2, ax_num)\n    plot_sandwich_data(tx, y, axis=ax)\n    plot_neighborhood_graph(tx, ml_knn, y, axis=ax)\n    ax.set_title(ml.__class__.__name__)\n    ax.set_xticks([])\n    ax.set_yticks([])\n  plt.show()\n\n\n# TODO: use this somewhere\ndef visualize_class_separation(X, labels):\n  _, (ax1, ax2) = plt.subplots(ncols=2)\n  label_order = np.argsort(labels)\n  ax1.imshow(pairwise_distances(X[label_order]), interpolation='nearest')\n  ax2.imshow(pairwise_distances(labels[label_order, None]),\n             interpolation='nearest')\n\n\ndef nearest_neighbors(X, k=5):\n  knn = NearestNeighbors(n_neighbors=k)\n  knn.fit(X)\n  return knn.kneighbors(X, return_distance=False)\n\n\ndef sandwich_data():\n  # number of distinct classes\n  num_classes = 6\n  # number of points per class\n  num_points = 9\n  # distance between layers, the points of each class are in a layer\n  dist = 0.7\n\n  data = np.zeros((num_classes, num_points, 2), dtype=float)\n  labels = np.zeros((num_classes, num_points), dtype=int)\n\n  x_centers = np.arange(num_points, dtype=float) - num_points / 2\n  y_centers = dist * (np.arange(num_classes, dtype=float) - num_classes / 2)\n  for i, yc in enumerate(y_centers):\n    for k, xc in enumerate(x_centers):\n      data[i, k, 0] = np.random.normal(xc, 0.1)\n      data[i, k, 1] = np.random.normal(yc, 0.1)\n    labels[i, :] = i\n  return data.reshape((-1, 2)), labels.ravel()\n\n\ndef plot_sandwich_data(x, y, axis=plt, colors='rbgmky'):\n  for idx, val in enumerate(np.unique(y)):\n    xi = x[y == val]\n    axis.scatter(*xi.T, s=50, facecolors='none', edgecolors=colors[idx])\n\n\ndef plot_neighborhood_graph(x, nn, y, axis=plt, colors='rbgmky'):\n  for i, a in enumerate(x):\n    b = x[nn[i, 1]]\n    axis.plot((a[0], b[0]), (a[1], b[1]), colors[y[i]])\n\n\nif __name__ == '__main__':\n  sandwich_demo()"
      ]
    }
  ],
  "metadata": {
    "kernelspec": {
      "display_name": "Python 3",
      "language": "python",
      "name": "python3"
    },
    "language_info": {
      "codemirror_mode": {
        "name": "ipython",
        "version": 3
      },
      "file_extension": ".py",
      "mimetype": "text/x-python",
      "name": "python",
      "nbconvert_exporter": "python",
      "pygments_lexer": "ipython3",
      "version": "3.11.6"
    }
  },
  "nbformat": 4,
  "nbformat_minor": 0
}