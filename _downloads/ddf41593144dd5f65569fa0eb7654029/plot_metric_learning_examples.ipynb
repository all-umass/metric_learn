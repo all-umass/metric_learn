{
  "cells": [
    {
      "cell_type": "markdown",
      "metadata": {},
      "source": [
        "\n# Algorithms walkthrough\n\nThis is a small walkthrough which illustrates most of the Metric Learning\nalgorithms implemented in metric-learn by using them on synthetic data,\nwith some visualizations to provide intuitions into what they are designed\nto achieve.\n"
      ]
    },
    {
      "cell_type": "code",
      "execution_count": null,
      "metadata": {
        "collapsed": false
      },
      "outputs": [],
      "source": [
        "# License: BSD 3 clause\n# Authors: Bhargav Srinivasa Desikan <bhargavvader@gmail.com>\n#          William de Vazelhes <wdevazelhes@gmail.com>"
      ]
    },
    {
      "cell_type": "markdown",
      "metadata": {},
      "source": [
        "## Imports\n<div class=\"alert alert-info\"><h4>Note</h4><p>In order to show the charts of the examples you need a graphical\n    ``matplotlib`` backend installed. For intance, use ``pip install pyqt5``\n    to get Qt graphical interface or use your favorite one.</p></div>\n\n"
      ]
    },
    {
      "cell_type": "code",
      "execution_count": null,
      "metadata": {
        "collapsed": false
      },
      "outputs": [],
      "source": [
        "from sklearn.manifold import TSNE\n\nimport metric_learn\nimport numpy as np\nfrom sklearn.datasets import make_classification, make_regression\n\n# visualisation imports\nimport matplotlib.pyplot as plt\nnp.random.seed(42)"
      ]
    },
    {
      "cell_type": "markdown",
      "metadata": {},
      "source": [
        "## Loading our dataset and setting up plotting\n\nWe will be using a synthetic dataset to illustrate the plotting,\nusing the function `sklearn.datasets.make_classification` from\nscikit-learn. The dataset will contain:\n- 100 points in 3 classes with 2 clusters per class\n- 5 features, among which 3 are informative (correlated with the class\nlabels) and two are random noise with large magnitude\n\n"
      ]
    },
    {
      "cell_type": "code",
      "execution_count": null,
      "metadata": {
        "collapsed": false
      },
      "outputs": [],
      "source": [
        "X, y = make_classification(n_samples=100, n_classes=3, n_clusters_per_class=2,\n                           n_informative=3, class_sep=4., n_features=5,\n                           n_redundant=0, shuffle=True,\n                           scale=[1, 1, 20, 20, 20])"
      ]
    },
    {
      "cell_type": "markdown",
      "metadata": {},
      "source": [
        "Note that the dimensionality of the data is 5, so to plot the\ntransformed data in 2D, we will use the t-sne algorithm. (See\n`sklearn.manifold.TSNE`).\n\n"
      ]
    },
    {
      "cell_type": "code",
      "execution_count": null,
      "metadata": {
        "collapsed": false
      },
      "outputs": [],
      "source": [
        "def plot_tsne(X, y, colormap=plt.cm.Paired):\n    plt.figure(figsize=(8, 6))\n\n    # clean the figure\n    plt.clf()\n\n    tsne = TSNE()\n    X_embedded = tsne.fit_transform(X)\n    plt.scatter(X_embedded[:, 0], X_embedded[:, 1], c=y, cmap=colormap)\n\n    plt.xticks(())\n    plt.yticks(())\n\n    plt.show()"
      ]
    },
    {
      "cell_type": "markdown",
      "metadata": {},
      "source": [
        "Let's now plot the dataset as is.\n\n"
      ]
    },
    {
      "cell_type": "code",
      "execution_count": null,
      "metadata": {
        "collapsed": false
      },
      "outputs": [],
      "source": [
        "plot_tsne(X, y)"
      ]
    },
    {
      "cell_type": "markdown",
      "metadata": {},
      "source": [
        "We can see that the classes appear mixed up: this is because t-sne\nis based on preserving the original neighborhood of points in the embedding\nspace, but this original neighborhood is based on the euclidean\ndistance in the input space, in which the contribution of the noisy\nfeatures is high. So even if points from the same class are close to each\nother in some subspace of the input space, this is not the case when\nconsidering all dimensions of the input space.\n\n## Metric Learning\n\nWhy is Metric Learning useful? We can, with prior knowledge of which\npoints are supposed to be closer, figure out a better way to compute\ndistances between points for the task at hand. Especially in higher\ndimensions when Euclidean distances are a poor way to measure distance, this\nbecomes very useful.\n\nBasically, we learn this distance:\n$D(x, x') = \\sqrt{(x-x')^\\top M(x-x')}$. And we learn the parameters\n$M$ of this distance to satisfy certain constraints on the distance\nbetween points, for example requiring that points of the same class are\nclose together and points of different class are far away.\n\nFor more information, check the `intro_metric_learning` section\nfrom the documentation. Some good reading material can also be found\n[here](https://arxiv.org/pdf/1306.6709.pdf)_. It serves as a\ngood literature review of Metric Learning.\n\nWe will briefly explain the metric learning algorithms implemented by\nmetric-learn, before providing some examples for its usage, and also\ndiscuss how to perform metric learning with weaker supervision than class\nlabels.\n\nMetric-learn can be easily integrated with your other machine learning\npipelines, and follows scikit-learn conventions.\n\n\n"
      ]
    },
    {
      "cell_type": "markdown",
      "metadata": {},
      "source": [
        "## Large Margin Nearest Neighbour\n\nLMNN is a metric learning algorithm primarily designed for k-nearest\nneighbor classification. The algorithm is based on semidefinite\nprogramming, a sub-class of convex programming (as most Metric Learning\nalgorithms are).\n\nThe main intuition behind LMNN is to learn a pseudometric under which\nall data instances in the training set are surrounded by at least k\ninstances that share the same class label. If this is achieved, the\nleave-one-out error (a special case of cross validation) is minimized.\nYou'll notice that the points from the same labels are closer together,\nbut they are not necessary in a same cluster. This is particular to LMNN\nand we'll see that some other algorithms implicitly enforce points from\nthe same class to cluster together.\n\n- See more in the `User Guide <lmnn>`\n- See more in the documentation of the class :py:class:`LMNN\n  <metric_learn.LMNN>`\n\n"
      ]
    },
    {
      "cell_type": "markdown",
      "metadata": {},
      "source": [
        "### Fit and then transform!\n\n\n"
      ]
    },
    {
      "cell_type": "code",
      "execution_count": null,
      "metadata": {
        "collapsed": false
      },
      "outputs": [],
      "source": [
        "# setting up LMNN\nlmnn = metric_learn.LMNN(n_neighbors=5, learn_rate=1e-6)\n\n# fit the data!\nlmnn.fit(X, y)\n\n# transform our input space\nX_lmnn = lmnn.transform(X)"
      ]
    },
    {
      "cell_type": "markdown",
      "metadata": {},
      "source": [
        "So what have we learned? The matrix $M$ we talked about before.\n\n"
      ]
    },
    {
      "cell_type": "markdown",
      "metadata": {},
      "source": [
        "Now let us plot the transformed space - this tells us what the original\nspace looks like after being transformed with the new learned metric.\n\n\n"
      ]
    },
    {
      "cell_type": "code",
      "execution_count": null,
      "metadata": {
        "collapsed": false
      },
      "outputs": [],
      "source": [
        "plot_tsne(X_lmnn, y)"
      ]
    },
    {
      "cell_type": "markdown",
      "metadata": {},
      "source": [
        "Pretty neat, huh?\n\nThe rest of this notebook will briefly explain the other Metric Learning\nalgorithms before plotting them. Also, while we have first run ``fit``\nand then ``transform`` to see our data transformed, we can also use\n``fit_transform``. The rest of the examples and illustrations will use\n``fit_transform``.\n\n"
      ]
    },
    {
      "cell_type": "markdown",
      "metadata": {},
      "source": [
        "## Information Theoretic Metric Learning\n\nITML uses a regularizer that automatically enforces a Semi-Definite\nPositive Matrix condition - the LogDet divergence. It uses soft\nmust-link or cannot-link constraints, and a simple algorithm based on\nBregman projections. Unlike LMNN, ITML will implicitly enforce points from\nthe same class to belong to the same cluster, as you can see below.\n\n- See more in the `User Guide <itml>`\n- See more in the documentation of the class :py:class:`ITML\n  <metric_learn.ITML>`\n\n"
      ]
    },
    {
      "cell_type": "code",
      "execution_count": null,
      "metadata": {
        "collapsed": false
      },
      "outputs": [],
      "source": [
        "itml = metric_learn.ITML_Supervised()\nX_itml = itml.fit_transform(X, y)\n\nplot_tsne(X_itml, y)"
      ]
    },
    {
      "cell_type": "markdown",
      "metadata": {},
      "source": [
        "## Mahalanobis Metric for Clustering\n\nMMC is an algorithm that will try to minimize the distance between similar\npoints, while ensuring that the sum of distances between dissimilar points is\nhigher than a threshold. This is done by optimizing a cost function\nsubject to an inequality constraint.\n\n- See more in the `User Guide <mmc>`\n- See more in the documentation of the class :py:class:`MMC\n  <metric_learn.MMC>`\n\n"
      ]
    },
    {
      "cell_type": "code",
      "execution_count": null,
      "metadata": {
        "collapsed": false
      },
      "outputs": [],
      "source": [
        "mmc = metric_learn.MMC_Supervised()\nX_mmc = mmc.fit_transform(X, y)\n\nplot_tsne(X_mmc, y)"
      ]
    },
    {
      "cell_type": "markdown",
      "metadata": {},
      "source": [
        "## Sparse Determinant Metric Learning\n\nImplements an efficient sparse metric learning algorithm in high\ndimensional space via an $l_1$-penalized log-determinant\nregularization. Compared to the most existing distance metric learning\nalgorithms, the algorithm exploits the sparsity nature underlying the\nintrinsic high dimensional feature space.\n\n- See more in the `User Guide <sdml>`\n- See more in the documentation of the class :py:class:`SDML\n  <metric_learn.SDML>`\n\n"
      ]
    },
    {
      "cell_type": "code",
      "execution_count": null,
      "metadata": {
        "collapsed": false
      },
      "outputs": [],
      "source": [
        "sdml = metric_learn.SDML_Supervised(sparsity_param=0.1, balance_param=0.0015,\n                                    prior='covariance')\nX_sdml = sdml.fit_transform(X, y)\n\nplot_tsne(X_sdml, y)"
      ]
    },
    {
      "cell_type": "markdown",
      "metadata": {},
      "source": [
        "## Least Squares Metric Learning\n\nLSML is a simple, yet effective, algorithm that learns a Mahalanobis\nmetric from a given set of relative comparisons. This is done by\nformulating and minimizing a convex loss function that corresponds to\nthe sum of squared hinge loss of violated constraints.\n\n- See more in the `User Guide <lsml>`\n- See more in the documentation of the class :py:class:`LSML\n  <metric_learn.LSML>`\n\n"
      ]
    },
    {
      "cell_type": "code",
      "execution_count": null,
      "metadata": {
        "collapsed": false
      },
      "outputs": [],
      "source": [
        "lsml = metric_learn.LSML_Supervised(tol=0.0001, max_iter=10000,\n                                    prior='covariance')\nX_lsml = lsml.fit_transform(X, y)\n\nplot_tsne(X_lsml, y)"
      ]
    },
    {
      "cell_type": "markdown",
      "metadata": {},
      "source": [
        "## Neighborhood Components Analysis\n\nNCA is an extremly popular metric learning algorithm.\n\nNeighborhood components analysis aims at \"learning\" a distance metric\nby finding a linear transformation of input data such that the average\nleave-one-out (LOO) classification performance of a soft-nearest\nneighbors rule is maximized in the transformed space. The key insight to\nthe algorithm is that a matrix $A$ corresponding to the\ntransformation can be found by defining a differentiable objective function\nfor $A$, followed by use of an iterative solver such as\n`scipy.optimize.fmin_l_bfgs_b`. Like LMNN, this algorithm does not try to\ncluster points from the same class in a unique cluster, because it\nenforces conditions at a local neighborhood scale.\n\n- See more in the `User Guide <nca>`\n- See more in the documentation of the class :py:class:`NCA\n  <metric_learn.NCA>`\n\n"
      ]
    },
    {
      "cell_type": "code",
      "execution_count": null,
      "metadata": {
        "collapsed": false
      },
      "outputs": [],
      "source": [
        "nca = metric_learn.NCA(max_iter=1000)\nX_nca = nca.fit_transform(X, y)\n\nplot_tsne(X_nca, y)"
      ]
    },
    {
      "cell_type": "markdown",
      "metadata": {},
      "source": [
        "## Local Fisher Discriminant Analysis\n\nLFDA is a linear supervised dimensionality reduction method. It is\nparticularly useful when dealing with multimodality, where one ore more\nclasses consist of separate clusters in input space. The core\noptimization problem of LFDA is solved as a generalized eigenvalue\nproblem. Like LMNN, and NCA, this algorithm does not try to cluster points\nfrom the same class in a unique cluster.\n\n- See more in the `User Guide <lfda>`\n- See more in the documentation of the class :py:class:`LFDA\n  <metric_learn.LFDA>`\n\n"
      ]
    },
    {
      "cell_type": "code",
      "execution_count": null,
      "metadata": {
        "collapsed": false
      },
      "outputs": [],
      "source": [
        "lfda = metric_learn.LFDA(k=2, n_components=2)\nX_lfda = lfda.fit_transform(X, y)\n\nplot_tsne(X_lfda, y)"
      ]
    },
    {
      "cell_type": "markdown",
      "metadata": {},
      "source": [
        "## Relative Components Analysis\n\nRCA is another one of the older algorithms. It learns a full rank\nMahalanobis distance metric based on a weighted sum of in-class\ncovariance matrices. It applies a global linear transformation to assign\nlarge weights to relevant dimensions and low weights to irrelevant\ndimensions. Those relevant dimensions are estimated using \"chunklets\",\nsubsets of points that are known to belong to the same class.\n\n- See more in the `User Guide <rca>`\n- See more in the documentation of the class :py:class:`RCA\n  <metric_learn.RCA>`\n\n"
      ]
    },
    {
      "cell_type": "code",
      "execution_count": null,
      "metadata": {
        "collapsed": false
      },
      "outputs": [],
      "source": [
        "rca = metric_learn.RCA_Supervised(n_chunks=30, chunk_size=2)\nX_rca = rca.fit_transform(X, y)\n\nplot_tsne(X_rca, y)"
      ]
    },
    {
      "cell_type": "markdown",
      "metadata": {},
      "source": [
        "## Regression example: Metric Learning for Kernel Regression\n\nThe previous algorithms took as input a dataset with class labels. Metric\nlearning can also be useful for regression, when the labels are real numbers.\nAn algorithm very similar to NCA but for regression is Metric\nLearning for Kernel Regression (MLKR). It will optimize for the average\nleave-one-out *regression* performance from a soft-nearest neighbors\nregression.\n\n- See more in the `User Guide <mlkr>`\n- See more in the documentation of the class :py:class:`MLKR\n  <metric_learn.MLKR>`\n\nTo illustrate MLKR, let's use the dataset\n`sklearn.datasets.make_regression` the same way as we did with the\nclassification  before. The dataset will contain: 100 points of 5 features\neach, among which 3 are informative (i.e., used to generate the\nregression target from a linear model), and two are random noise with the\nsame magnitude.\n\n"
      ]
    },
    {
      "cell_type": "code",
      "execution_count": null,
      "metadata": {
        "collapsed": false
      },
      "outputs": [],
      "source": [
        "X_reg, y_reg = make_regression(n_samples=100, n_informative=3, n_features=5,\n                               shuffle=True)"
      ]
    },
    {
      "cell_type": "markdown",
      "metadata": {},
      "source": [
        "Let's plot the dataset as is\n\n"
      ]
    },
    {
      "cell_type": "code",
      "execution_count": null,
      "metadata": {
        "collapsed": false
      },
      "outputs": [],
      "source": [
        "plot_tsne(X_reg, y_reg, plt.cm.Oranges)"
      ]
    },
    {
      "cell_type": "markdown",
      "metadata": {},
      "source": [
        "And let's plot the dataset after transformation by MLKR:\n\n"
      ]
    },
    {
      "cell_type": "code",
      "execution_count": null,
      "metadata": {
        "collapsed": false
      },
      "outputs": [],
      "source": [
        "mlkr = metric_learn.MLKR()\nX_mlkr = mlkr.fit_transform(X_reg, y_reg)\nplot_tsne(X_mlkr, y_reg, plt.cm.Oranges)"
      ]
    },
    {
      "cell_type": "markdown",
      "metadata": {},
      "source": [
        "Points that have the same value to regress are now closer to each\nother ! This would improve the performance of\n`sklearn.neighbors.KNeighborsRegressor` for instance.\n\n"
      ]
    },
    {
      "cell_type": "markdown",
      "metadata": {},
      "source": [
        "## Metric Learning from Weaker Supervision\n\nTo learn the metric, so far we have always given the labels of the\ndata to supervise the algorithms. However, in many applications,\nit is easier to obtain information about whether two samples are\nsimilar or dissimilar. For instance, when annotating a dataset of face\nimages, it is easier for an annotator to tell if two faces belong to the same\nperson or not, rather than finding the ID of the face among a huge database\nof every person's faces.\nNote that for some problems (e.g., in information\nretrieval where the goal is to rank documents by similarity to a query\ndocument), there is no notion of individual label but one can gather\ninformation on which pairs of points are similar or dissimilar.\nFortunately, one of the strength of metric learning is the ability to\nlearn from such weaker supervision. Indeed, some of the algorithms we've\nused above have alternate ways to pass some supervision about the metric\nwe want to learn. The way to go is to pass a 2D array `pairs` of pairs,\nas well as an array of labels `pairs_labels` such that for each `i` between\n`0` and `n_pairs` we want `X[pairs[i, 0], :]` and `X[pairs[i, 1], :]` to be\nsimilar if `pairs_labels[i] == 1`, and we want them to be dissimilar if\n`pairs_labels[i] == -1`. In other words, we\nwant to enforce a metric that projects similar points closer together and\ndissimilar points further away from each other. This kind of input is\npossible for ITML, SDML, and MMC. See `weakly_supervised_section` for\ndetails on other kinds of weak supervision that some algorithms can work\nwith.\n\nFor the purpose of this example, we're going to explicitly create these\npairwise constraints through the labels we have, i.e. `y`.\nDo keep in mind that we are doing this method because we know the labels\n- we can actually create the constraints any way we want to depending on\nthe data!\n\nNote that this is what metric-learn did under the hood in the previous\nexamples (do check out the\n`constraints` module!) - but we'll try our own version of this. We're\ngoing to go ahead and assume that two points labeled the same will be\ncloser than two points in different labels.\n\n"
      ]
    },
    {
      "cell_type": "code",
      "execution_count": null,
      "metadata": {
        "collapsed": false
      },
      "outputs": [],
      "source": [
        "def create_constraints(labels):\n    import itertools\n    import random\n\n    # aggregate indices of same class\n    zeros = np.where(y == 0)[0]\n    ones = np.where(y == 1)[0]\n    twos = np.where(y == 2)[0]\n    # make permutations of all those points in the same class\n    zeros_ = list(itertools.combinations(zeros, 2))\n    ones_ = list(itertools.combinations(ones, 2))\n    twos_ = list(itertools.combinations(twos, 2))\n    # put them together!\n    sim = np.array(zeros_ + ones_ + twos_)\n\n    # similarily, put together indices in different classes\n    dis = []\n    for zero in zeros:\n        for one in ones:\n            dis.append((zero, one))\n        for two in twos:\n            dis.append((zero, two))\n    for one in ones:\n        for two in twos:\n            dis.append((one, two))\n\n    # pick up just enough dissimilar examples as we have similar examples\n    dis = np.array(random.sample(dis, len(sim)))\n\n    # return an array of pairs of indices of shape=(2*len(sim), 2), and the\n    # corresponding labels, array of shape=(2*len(sim))\n    # Each pair of similar points have a label of +1 and each pair of\n    # dissimilar points have a label of -1\n    return (np.vstack([np.column_stack([sim[:, 0], sim[:, 1]]),\n                       np.column_stack([dis[:, 0], dis[:, 1]])]),\n            np.concatenate([np.ones(len(sim)), -np.ones(len(sim))]))\n\n\npairs, pairs_labels = create_constraints(y)"
      ]
    },
    {
      "cell_type": "markdown",
      "metadata": {},
      "source": [
        "Now that we've created our constraints, let's see what it looks like!\n\n\n"
      ]
    },
    {
      "cell_type": "code",
      "execution_count": null,
      "metadata": {
        "collapsed": false
      },
      "outputs": [],
      "source": [
        "print(pairs)\nprint(pairs_labels)"
      ]
    },
    {
      "cell_type": "markdown",
      "metadata": {},
      "source": [
        "Using our constraints, let's now train ITML again. Note that we are no\nlonger calling the supervised class :py:class:`ITML_Supervised\n<metric_learn.ITML_Supervised>` but the more generic\n(weakly-supervised) :py:class:`ITML <metric_learn.ITML>`, which\ntakes the dataset `X` through the `preprocessor` argument (see\n`this section  <preprocessor_section>` of the documentation to learn\nabout more advanced uses of `preprocessor`) and the pair information `pairs`\nand `pairs_labels` in the fit method.\n\n"
      ]
    },
    {
      "cell_type": "code",
      "execution_count": null,
      "metadata": {
        "collapsed": false
      },
      "outputs": [],
      "source": [
        "itml = metric_learn.ITML(preprocessor=X)\nitml.fit(pairs, pairs_labels)\n\nX_itml = itml.transform(X)\n\nplot_tsne(X_itml, y)"
      ]
    },
    {
      "cell_type": "markdown",
      "metadata": {},
      "source": [
        "And that's the result of ITML after being trained on our manually\nconstructed constraints! A bit different from our old result, but not too\ndifferent.\n\nRCA and LSML also have their own specific ways of taking in inputs -\nit's worth one's while to poke around in the constraints.py file to see\nhow exactly this is going on.\n\nFinally, one of the main advantages of metric-learn is its out-of-the box\ncompatibility with scikit-learn, for doing [model selection](https://scikit-learn.org/stable/model_selection.html)_,\ncross-validation, and scoring for instance. Indeed, supervised algorithms are\nregular `sklearn.base.TransformerMixin` that can be plugged into any\npipeline or cross-validation procedure. And weakly-supervised estimators are\nalso compatible with scikit-learn, since their input dataset format described\nabove allows to be sliced along the first dimension when doing\ncross-validations (see also this `section <sklearn_compat_ws>`). You\ncan also look at some `use cases <use_cases>` where you could combine\nmetric-learn with scikit-learn estimators.\n\n"
      ]
    },
    {
      "cell_type": "markdown",
      "metadata": {},
      "source": [
        "This brings us to the end of this tutorial! Have fun Metric Learning :)\n\n"
      ]
    }
  ],
  "metadata": {
    "kernelspec": {
      "display_name": "Python 3",
      "language": "python",
      "name": "python3"
    },
    "language_info": {
      "codemirror_mode": {
        "name": "ipython",
        "version": 3
      },
      "file_extension": ".py",
      "mimetype": "text/x-python",
      "name": "python",
      "nbconvert_exporter": "python",
      "pygments_lexer": "ipython3",
      "version": "3.11.6"
    }
  },
  "nbformat": 4,
  "nbformat_minor": 0
}